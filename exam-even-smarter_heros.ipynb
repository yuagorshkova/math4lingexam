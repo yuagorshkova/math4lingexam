{
 "cells": [
  {
   "cell_type": "markdown",
   "metadata": {},
   "source": [
    "<p>Вариант 1: Дан граф, описывающий возможность перемещений между локациями. Команда из нескольких героев находится в разных вершинах этого графа. В других вершинах графа находятся монстры. Каждый ход монстр с некоторой вероятностью решает покинуть текущую локацию и перейти в новую, связанную с текущей, либо остаться в текущей вершине. Вероятности перехода монстра в одну из локаций, связанных с текущей, равны. Герой за один ход может совершить лишь один переход в соседнюю локацию. Соберите всех героев в финишной локации.</p>\n",
    "\n",
    "<h3>Мое прочтение задачи:</h3>\n",
    "<p>-герои формально ходят после монстров</p>\n",
    "<p>-но на самом деле они ходят одновременно, поэтому героям нет смылса пытаться предсказать, есть ли рядом монстр, потому что в тот же ход это уже может быть неактуально</p>\n",
    "<p>-мы сами выбираем финишную вершину, когда задаем все остальные данные</p>\n",
    "<p>герои ходят случайно, но 1) не ходят туда где уже были, если только они не в тупике; 2) если нашли финишную локацию, не уходят оттуда</p>"
   ]
  },
  {
   "cell_type": "code",
   "execution_count": 55,
   "metadata": {},
   "outputs": [],
   "source": [
    "import random"
   ]
  },
  {
   "cell_type": "code",
   "execution_count": 56,
   "metadata": {},
   "outputs": [],
   "source": [
    "land = {\n",
    "    'A':['B', 'D'],\n",
    "    'B' : ['A','C','D'],\n",
    "    'C': ['B'],\n",
    "    'D' :['A','B','E'],\n",
    "    'E' : ['D']\n",
    "}\n",
    "\n",
    "goal = 'B'"
   ]
  },
  {
   "cell_type": "code",
   "execution_count": 57,
   "metadata": {},
   "outputs": [],
   "source": [
    "heros = {\n",
    "    'hero1' : ['A',['A']],\n",
    "    'hero2' : ['E',['E']]\n",
    "}\n",
    "\n",
    "# 'имя героя': [вершина где он сейчас, [где он уже был]]\n",
    "#первая вершина сразу содержится в списке посещенных"
   ]
  },
  {
   "cell_type": "code",
   "execution_count": 58,
   "metadata": {},
   "outputs": [],
   "source": [
    "monsters = {\n",
    "    'mon1' : 'C'\n",
    "}"
   ]
  },
  {
   "cell_type": "code",
   "execution_count": 59,
   "metadata": {},
   "outputs": [],
   "source": [
    "def check_heros():\n",
    "    check = False\n",
    "    for v in heros.values():\n",
    "        if v[0] == goal:\n",
    "            check = True\n",
    "        else:\n",
    "            check = False\n",
    "            break\n",
    "    return check\n",
    "#v[0] -- это всегда текущая локация героя"
   ]
  },
  {
   "cell_type": "code",
   "execution_count": 60,
   "metadata": {},
   "outputs": [],
   "source": [
    "#это функция, чтобы герой выбирал маршрут\n",
    "#теперь надо ее вставить в ход героя\n",
    "\n",
    "def find_path(land, visits, cur_node, goal):\n",
    "    if goal == cur_node:\n",
    "        return [cur_node]\n",
    "    visits[cur_node] = True\n",
    "    min_len = len(land) + 10\n",
    "    l1 = None\n",
    "    for loc in land[cur_node]:\n",
    "        if visits[loc]:\n",
    "            continue\n",
    "        l = find_path(land, visits, loc, goal)\n",
    "        if l != None and len(l) < min_len:\n",
    "            l1 = [cur_node]\n",
    "            l1.extend(l)\n",
    "    return l1\n",
    "\n",
    "#visited = visited.fromkeys(list(land.keys()), False)\n",
    "#find_path(land, visited, 'B', 'C')\n"
   ]
  },
  {
   "cell_type": "code",
   "execution_count": 61,
   "metadata": {},
   "outputs": [],
   "source": [
    "def update():\n",
    "    go_monsters()\n",
    "    go_heros1()\n",
    "    \n",
    "    if check_heros():\n",
    "            print('Yay! Heros won!')\n",
    "            return True\n",
    "    else:\n",
    "        for h,v in heros.items():\n",
    "            if v[0] in monsters.values():\n",
    "                print('Oh no! {} was caught :('.format(h))\n",
    "                return True\n",
    "    print('Continue to play')\n",
    "    return"
   ]
  },
  {
   "cell_type": "code",
   "execution_count": 62,
   "metadata": {},
   "outputs": [],
   "source": [
    "def go_monsters():\n",
    "    for monster, loc in monsters.items():\n",
    "        go_choice = random.randint(0,1)\n",
    "        if go_choice == 1:\n",
    "            loc_choice = random.choice(land[loc])\n",
    "            monsters[monster] = loc_choice"
   ]
  },
  {
   "cell_type": "code",
   "execution_count": 63,
   "metadata": {},
   "outputs": [],
   "source": [
    "#герои ходят случайно, но 1) не ходят туда где уже были, если только они не в тупике; 2) если нашли финишную локацию, не уходят оттуда\n",
    "#c этим вариантом точно работает\n",
    "\n",
    "def go_heros1():\n",
    "    for hero, v in heros.items():\n",
    "        if v[0] != goal:\n",
    "            loc_choice = random.choice(land[v[0]])\n",
    "            \n",
    "            #ищем такую вершину, где он не был\n",
    "            if len(land[v[0]])>1 and len(v[1])< len(land):\n",
    "                while loc_choice in v[1]:\n",
    "                    loc_choice = random.choice(land[v[0]])\n",
    "                    \n",
    "            #изменяем текущую\n",
    "            heros[hero][0] = loc_choice\n",
    "            \n",
    "            #пополняем список пройденных вершин\n",
    "            if heros[hero][0] not in heros[hero][1]:\n",
    "                heros[hero][1].append(heros[hero][0])"
   ]
  },
  {
   "cell_type": "code",
   "execution_count": 64,
   "metadata": {},
   "outputs": [],
   "source": [
    "#герои стараются идти по короткому пути\n",
    "#так у меня не получилось доделать, чтобы работало\n",
    "\n",
    "def go_heros2(visited = visited.fromkeys(list(land.keys()), False)):\n",
    "    for hero, v in heros.items():\n",
    "        if v[0] != goal:\n",
    "            \n",
    "            path = find_path(land, visited, v[0], goal)\n",
    "            \n",
    "            if len(path)>1:\n",
    "                heros[hero][0] = path[1]\n",
    "            else:\n",
    "                heros[hero][0] = path[0]\n",
    "            \n",
    "            #пополняем список пройденных вершин\n",
    "            if heros[hero][0] not in heros[hero][1]:\n",
    "                heros[hero][1].append(heros[hero][0])"
   ]
  },
  {
   "cell_type": "code",
   "execution_count": 65,
   "metadata": {},
   "outputs": [],
   "source": [
    "def print_the_land():\n",
    "    print(heros, monsters, sep = '\\n\\n')"
   ]
  },
  {
   "cell_type": "code",
   "execution_count": 66,
   "metadata": {},
   "outputs": [],
   "source": [
    "def play():\n",
    "    #надо проверить, можно ли начинать игру\n",
    "    if check_heros():\n",
    "        print('The heros have already found the treasure!')\n",
    "        return\n",
    "    else:\n",
    "        for h,v in heros.items():\n",
    "            if v[0] in monsters.values():\n",
    "                print('Sorry, but a monster has already caught {} :('.format(h))\n",
    "                return\n",
    "    \n",
    "    #если нельзя, то игра не началась, если можно, то играем: \n",
    "    \n",
    "    _ = ''\n",
    "    quit = False\n",
    "    while _ == '':\n",
    "        _ = input()\n",
    "        quit = update()\n",
    "        print_the_land() #к какому раскладу привел этот ход\n",
    "        if quit == True:\n",
    "            break\n",
    "            \n",
    "#чтобы прошел один ход игры, нужно нажать Enter\n",
    "#чтобы прервать игру, нужно что угодно ввести (не пусту строку)"
   ]
  },
  {
   "cell_type": "code",
   "execution_count": 67,
   "metadata": {},
   "outputs": [
    {
     "name": "stdout",
     "output_type": "stream",
     "text": [
      "{'hero1': ['A', ['A']], 'hero2': ['E', ['E']]}\n",
      "\n",
      "{'mon1': 'C'}\n"
     ]
    }
   ],
   "source": [
    "print_the_land()"
   ]
  },
  {
   "cell_type": "code",
   "execution_count": 68,
   "metadata": {},
   "outputs": [
    {
     "name": "stdout",
     "output_type": "stream",
     "text": [
      "\n",
      "Continue to play\n",
      "{'hero1': ['D', ['A', 'D']], 'hero2': ['D', ['E', 'D']]}\n",
      "\n",
      "{'mon1': 'C'}\n",
      "\n",
      "Oh no! hero1 was caught :(\n",
      "{'hero1': ['B', ['A', 'D', 'B']], 'hero2': ['A', ['E', 'D', 'A']]}\n",
      "\n",
      "{'mon1': 'B'}\n"
     ]
    }
   ],
   "source": [
    "play()"
   ]
  }
 ],
 "metadata": {
  "kernelspec": {
   "display_name": "Python 3",
   "language": "python",
   "name": "python3"
  },
  "language_info": {
   "codemirror_mode": {
    "name": "ipython",
    "version": 3
   },
   "file_extension": ".py",
   "mimetype": "text/x-python",
   "name": "python",
   "nbconvert_exporter": "python",
   "pygments_lexer": "ipython3",
   "version": "3.7.4"
  }
 },
 "nbformat": 4,
 "nbformat_minor": 4
}
